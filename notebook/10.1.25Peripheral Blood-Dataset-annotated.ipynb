{
 "cells": [
  {
   "cell_type": "markdown",
   "id": "f06a2a32",
   "metadata": {},
   "source": [
    "# Sepsis, Peripheral Blood samples:\n",
    "\n",
    "## GSE69063 \n",
    "\n",
    "The study design consisted of four disease phenotypes (anaphylaxis, sepsis, trauma, healthy controls) and up to 3 time points. Healthy controls were matched to patients within each study.Gene expression patterns in blood during human anaphylaxis, trauma, and sepsis.\n",
    "\n",
    "Sepsis patients + anaphylaxis + trauma + healthy control. \n",
    "\n",
    "Presented-genes: 53\n",
    "Missing-genes : FCGR1A, IFNA1\n",
    "\n",
    "The dataset has been cleaned and transformed and ready for downstream analysis.\n",
    "\n",
    "## GSE12624 \n",
    "\n",
    "We used peripheral whole blood obtained with the PaxGene system at the time of admission to the ICU, i.e., 12 hours after trauma, for transcriptome analysis and monitored clinically the sequence of events from the admission to the ICU, to the very onset of sepsis and finally to the full development of multiple organ dysfunction syndrome (MODS). Study protocols and standard operating procedures (SOPs) regarding ethics, patient recruitment, logistics in sample acquisition and storage, microarray experiments, data analysis and data management have been developed and provided for a high feasibility and reproducibility of the investigations.Group S (Sepsis): 34 patients.Group N (Non-sepsis): 36 patients.\n",
    "\n",
    "Polytrauma patients with sepsis + non sepsis. \n",
    "\n",
    "Presented-genes: 30\n",
    "Missing-genes :24 (\"CRP\"   \"PLAUR\"   \"LBP\"     \"HMGB1\"   \"ELANE\"   \"IL1B\"    \"CD14\"    \"C5AR1\"   \"LCN2\"    \"IFNG\"    \"IFNA1\"  \"IFNA2\"   \"IFNB1\"   \"CCL25\"   \"P2RX7\"   \"PTX3\"    \"HLA-DRA\" \"NLRP3\"   \"TLR4\"    \"BCL2\"    \"CCL2\"    \"CCR7\"   \"CCR2\")\n",
    "\n",
    "present by aliases:HN1 for NOTCH1\n",
    "\n",
    "There are lots of missing genes , so it is not appropriate for our analysis.\n",
    "\n",
    "\n",
    "## GSE154918 \n",
    "\n",
    "incorporated 26 sepsis patients alongside 14 controls:Strong differences between patients groups, specific expression changes for healthy control (Hlty), uncomplicated infection (Inf1_P), sepsis (Seps_P), septic shock (Shock_P), follow-up of sepsis (Seps_FU), follow-up of septic shock (Shock_FU) groups.\n",
    "\n",
    "sepsis + septic shock + follow-up of sepsis + follow-up of septic shock + infection + control.\n",
    "\n",
    "Presented-genes: 54\n",
    "Missing-genes :0 . \n",
    "\n",
    "All genes of interest are present .\n",
    "\n",
    "The dataset has been cleaned and transformed and ready for downstream analysis.\n",
    "\n"
   ]
  }
 ],
 "metadata": {
  "kernelspec": {
   "display_name": "Python 3 (ipykernel)",
   "language": "python",
   "name": "python3"
  },
  "language_info": {
   "codemirror_mode": {
    "name": "ipython",
    "version": 3
   },
   "file_extension": ".py",
   "mimetype": "text/x-python",
   "name": "python",
   "nbconvert_exporter": "python",
   "pygments_lexer": "ipython3",
   "version": "3.9.16"
  }
 },
 "nbformat": 4,
 "nbformat_minor": 5
}
