{
 "cells": [
  {
   "cell_type": "markdown",
   "id": "0bafa73a",
   "metadata": {},
   "source": [
    "1.add IL10 gene references to github repository.\n",
    "\n",
    "2.make a table for genes and the diagnostic/prognostic roles in sepsis and briefly explain 11 articles related to the gene and results.Table is in Table directory in notebook.\n",
    "\n",
    "All the journals checked and approved in www.https://www.scimagojr.com/ .\n",
    "\n",
    "REsults: CALCA1 gene that encode PCT proteins may not be good diagnostic gene but PCT is well-knowned diagnostic biomarker in protein level in sepsis.\n",
    "\n"
   ]
  },
  {
   "cell_type": "code",
   "execution_count": null,
   "id": "1112007a",
   "metadata": {},
   "outputs": [],
   "source": []
  }
 ],
 "metadata": {
  "kernelspec": {
   "display_name": "Python 3 (ipykernel)",
   "language": "python",
   "name": "python3"
  },
  "language_info": {
   "codemirror_mode": {
    "name": "ipython",
    "version": 3
   },
   "file_extension": ".py",
   "mimetype": "text/x-python",
   "name": "python",
   "nbconvert_exporter": "python",
   "pygments_lexer": "ipython3",
   "version": "3.9.16"
  }
 },
 "nbformat": 4,
 "nbformat_minor": 5
}
