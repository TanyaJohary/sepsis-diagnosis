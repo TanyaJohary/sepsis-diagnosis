{
 "cells": [
  {
   "cell_type": "markdown",
   "id": "6448fc83",
   "metadata": {},
   "source": [
    "# Dataset description: GSE69063\n",
    "\n",
    "The dataset GSE69063 comprises gene expression profiles obtained from peripheral blood samples of patients experiencing anaphylaxis, trauma, sepsis, and healthy controls. The samples were collected as part of a study designed to investigate the gene expression patterns associated with these four disease phenotypes.\n",
    "\n",
    "For this study, samples specifically related to sepsis patients and Healthy controls were extracted to identify gene expression changes .For the analysis, the dataset was separated based on the timeline (T0, T1, and T2) to assess temporal changes in gene expression.\n",
    "\n",
    "The samples were collected at three different time points:\n",
    "\n",
    "**T0**: At the time of emergency department (ED) arrival.\n",
    "(T0_sepsis_labeledGSE69063.csv) -> healthy control 33 and sepsis 19 samples.\n",
    "\n",
    "**T1**: One hour after ED arrival.\n",
    "(T1_sepsis_labeledGSE69063.csv) -> healthy control 33 and sepsis 20 samples.\n",
    "\n",
    "**T2**: Three hours after ED arrival.\n",
    "(T2_sepsis_labeledGSE69063.csv) -> healthy control 33 and sepsis 18 samples.\n",
    "\n",
    "Presented-genes: 53\n",
    "\n",
    "Missing-genes : FCGR1A, IFNA1\n",
    "\n",
    "\n"
   ]
  }
 ],
 "metadata": {
  "kernelspec": {
   "display_name": "Python 3 (ipykernel)",
   "language": "python",
   "name": "python3"
  },
  "language_info": {
   "codemirror_mode": {
    "name": "ipython",
    "version": 3
   },
   "file_extension": ".py",
   "mimetype": "text/x-python",
   "name": "python",
   "nbconvert_exporter": "python",
   "pygments_lexer": "ipython3",
   "version": "3.9.16"
  }
 },
 "nbformat": 4,
 "nbformat_minor": 5
}
