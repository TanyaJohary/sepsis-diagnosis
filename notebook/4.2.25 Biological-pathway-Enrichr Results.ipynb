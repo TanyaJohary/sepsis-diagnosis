{
 "cells": [
  {
   "cell_type": "markdown",
   "id": "62e10221",
   "metadata": {},
   "source": [
    "This enrichment analysis highlights key biological processes, pathways, and disease associations linked to the 55 genes under investigation in sepsis.\n",
    "\n",
    "# Strongest Disease Associations (DisGeNET)\n",
    "\n",
    "**Septicemia & Sepsis** (Top 2 Terms) The genes are highly enriched in sepsis-related conditions, confirming their biological relevance.\n",
    "\n",
    "**Pneumonia & Pneumonitis** This Suggests that these genes are also involved in pulmonary infections, which are major causes of sepsis.\n",
    "\n",
    "**Inflammation** Reinforces that these genes are key players in the inflammatory response, which is   dysregulated in sepsis.\n",
    "\n",
    "These results validate that the selected genes are truly involved in sepsis pathology and may serve as biomarkers or therapeutic targets.\n",
    "\n",
    "Immune System & Cytokine Signaling (Reactome & GO Terms)\n",
    "\n",
    "Cytokine Signaling in the Immune System (R-HSA-1280215)\n",
    "\n",
    "Inflammatory Response (GO:0006954)\n",
    "\n",
    "Signaling by Interleukins (R-HSA-449147)\n",
    "\n",
    "Cytokine-Mediated Signaling Pathway (GO:0019221)\n",
    "\n",
    "Innate Immune System (R-HSA-168249)\n",
    "\n",
    "These results show that the 55 genes are directly involved in immune system activation and cytokine storm, which is a major driver of sepsis severity.\n",
    "\n",
    "Bacterial Infection Susceptibility & Innate Immunity (MGI & KEGG)\n",
    "\n",
    "Increased Susceptibility to Bacterial Infection (MP:0002412)\n",
    "\n",
    "Abnormal Macrophage & Neutrophil Physiology (MP:0002451, MP:0002465)\n",
    "\n",
    "Toll-Like Receptor (TLR) Signaling Pathway\n",
    "\n",
    "Cellular Response to Bacterial Molecules (GO:007)\n",
    "\n",
    "These genes are involved in immune cell activation, particularly macrophages and neutrophils, which are crucial in the early defense against bacterial infections in sepsis.\n",
    "\n",
    "\n",
    "\n",
    "\n"
   ]
  }
 ],
 "metadata": {
  "kernelspec": {
   "display_name": "Python 3 (ipykernel)",
   "language": "python",
   "name": "python3"
  },
  "language_info": {
   "codemirror_mode": {
    "name": "ipython",
    "version": 3
   },
   "file_extension": ".py",
   "mimetype": "text/x-python",
   "name": "python",
   "nbconvert_exporter": "python",
   "pygments_lexer": "ipython3",
   "version": "3.9.16"
  }
 },
 "nbformat": 4,
 "nbformat_minor": 5
}
