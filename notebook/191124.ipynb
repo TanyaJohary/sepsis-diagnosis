{
 "cells": [
  {
   "cell_type": "markdown",
   "id": "cc06a585",
   "metadata": {},
   "source": [
    "# 19/11/24\n",
    "\n",
    "## Search for sepsis genes\n",
    "whan i searched in genechords for LCN2 i found this picture related to genes that are involved in different pathways of sepsis\n",
    "\n",
    "![Pathways](images/Pathways)\n",
    "\n",
    "I had found some of them and now I am seraching for rest of them to if there is any articles for them to be wet-lab validated genes for sepsis.\n"
   ]
  },
  {
   "cell_type": "code",
   "execution_count": null,
   "id": "975edab5",
   "metadata": {},
   "outputs": [],
   "source": [
    "\n",
    "\n"
   ]
  },
  {
   "cell_type": "code",
   "execution_count": null,
   "id": "d1bb32a8",
   "metadata": {},
   "outputs": [],
   "source": []
  },
  {
   "cell_type": "code",
   "execution_count": null,
   "id": "5d2b4a65",
   "metadata": {},
   "outputs": [],
   "source": []
  }
 ],
 "metadata": {
  "kernelspec": {
   "display_name": "Python 3 (ipykernel)",
   "language": "python",
   "name": "python3"
  },
  "language_info": {
   "codemirror_mode": {
    "name": "ipython",
    "version": 3
   },
   "file_extension": ".py",
   "mimetype": "text/x-python",
   "name": "python",
   "nbconvert_exporter": "python",
   "pygments_lexer": "ipython3",
   "version": "3.9.16"
  }
 },
 "nbformat": 4,
 "nbformat_minor": 5
}
