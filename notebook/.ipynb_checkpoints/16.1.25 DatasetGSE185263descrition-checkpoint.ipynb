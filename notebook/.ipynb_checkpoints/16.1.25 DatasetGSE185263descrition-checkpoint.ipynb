{
 "cells": [
  {
   "cell_type": "markdown",
   "id": "920172bb",
   "metadata": {},
   "source": [
    "# GSE185263 Dataset Description\n",
    "\n",
    "The dataset GSE185263 comprises gene expression profiles derived from whole blood RNA sequencing of **348 patients** across four emergency rooms and one intensive care unit. This dataset was designed to explore transcriptional changes in sepsis patients, assess disease severity, predict organ dysfunction, mortality, and uncover specific endotypes and mechanisms related to sepsis.\n",
    "\n",
    "\n",
    "### Data Preparation and Processing:\n",
    "\n",
    "Genes of interest have been identified and filtered based on their Ensembl Gene IDs and Gene Symbols. All genes of interest were present in the dataset and successfully searched using both Ensembl Gene IDs and Gene Symbols through BioMart.\n",
    "\n",
    "Presented-genes: 55\n",
    "\n",
    "Missing-genes :0\n",
    "\n",
    "### Normalization of raw count data\n",
    "\n",
    "The dataset consists of raw read counts for each gene across samples. These counts represent the number of sequencing reads mapped to each gene, which are not directly comparable between samples without normalization.\n",
    "\n",
    "**Variance Stabilization Normalization (VSN)**:The VSN method was applied to normalize the raw counts.\n",
    "VSN uses a variance stabilization transformation that makes the variance roughly constant across the range of mean intensities. This approach helps to reduce heteroscedasticity in the data, which can improve downstream statistical analyses.\n",
    "\n",
    "The process involves:\n",
    "\n",
    "Converting the raw counts into a numerical matrix, excluding metadata (e.g., Ensembl Gene IDs).\n",
    "\n",
    "Applying the justvsn function from the vsn R package to normalize the data.\n",
    "\n",
    "Verifying the normalization fit using the meanSdPlot function to ensure that the relationship between mean and standard deviation of gene expression is stabilized.\n",
    "\n",
    "### Two labeled datasets have been generated: (rows 392, cols 57)\n",
    "\n",
    "Sepsis vs. Healthy Dataset: Includes samples labeled as either Sepsis or Healthy Controls for sepsis diagnosis.(sepsis_labeled_dataGSE185263.csv).\n",
    "\n",
    "Sepsis = 348 —- healthy = 44.\n",
    "\n",
    "Prognostic Dataset: Includes samples labeled as Survived or Deceased for assessing the prognosis of sepsis patients.(sepsis_prognos_labeledGSE185263.csv)\n",
    "\n",
    "Survived = 293 —- died = 52 —- NA = 47.\n",
    "\n",
    "All the prepared files are in Dataset directory with corresponding GSE number.\n"
   ]
  }
 ],
 "metadata": {
  "kernelspec": {
   "display_name": "Python 3 (ipykernel)",
   "language": "python",
   "name": "python3"
  },
  "language_info": {
   "codemirror_mode": {
    "name": "ipython",
    "version": 3
   },
   "file_extension": ".py",
   "mimetype": "text/x-python",
   "name": "python",
   "nbconvert_exporter": "python",
   "pygments_lexer": "ipython3",
   "version": "3.9.16"
  }
 },
 "nbformat": 4,
 "nbformat_minor": 5
}
