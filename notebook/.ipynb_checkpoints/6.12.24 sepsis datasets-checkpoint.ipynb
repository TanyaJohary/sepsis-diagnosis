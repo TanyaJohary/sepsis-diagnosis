{
 "cells": [
  {
   "cell_type": "markdown",
   "id": "62c675d5",
   "metadata": {},
   "source": [
    "\n",
    "57.**GSE109704** The study population consisted of 30 melioidosis cases, 10 healthy controls and 10 sepsis cases caused by other pathogens. Total RNA was extracted from peripheral blood mononuclear cells (PBMC’s) of study subjects. Gene expression profiles of 25 gene targets including 19 immune response genes and 6 epigenetic factors were analyzed by real time quantitative polymerase chain reaction (RT-qPCR).\n",
    "\n",
    "58.**GSE33119** In total 20 patients were tested before and after specific treatment.Transcriptome of the septic shock after treatment by activated protein C.\n",
    "\n",
    "59.**GSE79962**, 20 sepsis patients, 11 ischemic heart disease (IHD), 9 nonischemic dilated cardiomyopathy (DCM), 11 non-failing donors.Widespread downregulation of cardiac mitochondrial and sarcomeric genes in patients with sepsis.\n",
    "\n",
    "60.**GSE64457**, 9 septic shock patients at D3-4 and D6-8 presenting with features of sepsis-induced immunosuppression and compared to 8 healthy controls.Marked alterations of neutrophil functions during sepsis-induced immunosuppression.\n",
    "\n",
    "61.**GSE74224** Discrimination of SIRS from Sepsis in Critically Ill Adults.Retrospective, multi-site study using retrospective physician adjudication as a comparator.\n",
    "\n",
    "62.**GSE65088** Analysis of innate immune activation on the basis of gene expression of whole blood cells during ex vivo whole blood infection with bacterial (Staphylococcus aureus, Escherichia coli) and fungal pathogens (Candida albicans, Aspergillus fumigatus) in comparison to mock-treated blood.(sepsis in explanation).\n",
    "\n",
    "63.**GSE65517** Comparative analysis of monocytes from healthy donors, patients with metastatic breast cancer, sepsis or tuberculosis.Peripheral blood monocytes were isolated using magnetic cell sorting from 4 patients with metastatic breast cancer, 3 healthy controls, 3 patients with sepsis and 3 patients with active tuberculosis were immediately frozen at -80°C in TRIZOL.\n",
    "\n",
    "64.**GSE63042** An integrated transcriptome and expressed variant analysis of sepsis survival and death.We sequenced peripheral blood RNA of 129 representative subjects with systemic inflammatory response syndrome (SIRS, n=23) or sepsis (infection with SIRS), including 78 sepsis survivors and 28 sepsis nonsurvivors, who had previously undergone plasma proteomic and metabolomic profiling.\n",
    "\n",
    "65.**GSE46955** Transcriptome analysis of blood monocytes from sepsis patients. Blood monocytes from gram-negative sepsis patients during sepsis (Sepsis) and following their recovery (Recovery/Basal) as well as healthy donor (control) were isolated. Thereafter, these cells were treated ex vivo with or without LPS for 3h and analysed for transcriptomic study.\n",
    "\n",
    "66.**GSE49756, GSE49755, GSE49754 ,GSE49753**  Polymorphonuclear neutrophils (PMNs) were isolated a healthy donor. Plasma samples were obtained from a first set of patients with culture-confirmed sepsis (n=29) and from uninfected controls (n=17). PMNs were cultured for 6 h in medium alone, plasma from patients with sepsis, plasma from uninfected controls, and LPS using a final concentration of 20%. Transcriptional profiles were acquired using Illumina HumanHT12 V4 BeadChips.A Transcriptomic Reporter Assay Employing Neutrophils to Measure Immunogenic Activity of Septic Patients' Plasma (Expt. 2)(PBMC)(Neutrophil)(DC)\n",
    "\n",
    "67.**GSE32707A** microarray analysis involving whole blood samples isolated from critically ill patients in the medical intensive care unit at Brigham and Women's Hospital. Four groups of intubated subjects undergoing mechanical ventilation were recruited for the study: those with sepsis alone (Sepsis), those with sepsis + ARDS (se/ARDS), those with SIRS (SIRS), and those without sepsis, SIRS, or ARDS (untreated). Blood was obtained from patients on the day of admission (day 0) and 7 days later. RNA was isolated from the whole blood samples and microarrays were prepared to determine differential gene expression between the four groups.\n",
    "\n",
    "68.**GSE167914** Impaired peripheral mononuclear cell metabolism in patients at risk of developing sepsis.Mitochondrial respiration and gene expression related to mitochondrial function were measured from the peripheral blood of infection and sepsis patients as well as healthy controls.\n"
   ]
  }
 ],
 "metadata": {
  "kernelspec": {
   "display_name": "Python 3 (ipykernel)",
   "language": "python",
   "name": "python3"
  },
  "language_info": {
   "codemirror_mode": {
    "name": "ipython",
    "version": 3
   },
   "file_extension": ".py",
   "mimetype": "text/x-python",
   "name": "python",
   "nbconvert_exporter": "python",
   "pygments_lexer": "ipython3",
   "version": "3.9.16"
  }
 },
 "nbformat": 4,
 "nbformat_minor": 5
}
